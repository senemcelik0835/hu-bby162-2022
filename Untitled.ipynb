{
  "nbformat": 4,
  "nbformat_minor": 0,
  "metadata": {
    "colab": {
      "name": "Untitled",
      "provenance": [],
      "authorship_tag": "ABX9TyNq0ktPSIR/JkO+JAm8zQf2",
      "include_colab_link": true
    },
    "kernelspec": {
      "name": "python3",
      "display_name": "Python 3"
    },
    "language_info": {
      "name": "python"
    }
  },
  "cells": [
    {
      "cell_type": "markdown",
      "metadata": {
        "id": "view-in-github",
        "colab_type": "text"
      },
      "source": [
        "<a href=\"https://colab.research.google.com/github/senemcelik0835/hu-bby162-2022/blob/main/Untitled.ipynb\" target=\"_parent\"><img src=\"https://colab.research.google.com/assets/colab-badge.svg\" alt=\"Open In Colab\"/></a>"
      ]
    },
    {
      "cell_type": "code",
      "execution_count": 16,
      "metadata": {
        "colab": {
          "base_uri": "https://localhost:8080/"
        },
        "id": "sZhh3yJS7V-P",
        "outputId": "27027506-1ff7-4746-f5dc-24916f0528d7"
      },
      "outputs": [
        {
          "output_type": "stream",
          "name": "stdout",
          "text": [
            "Aradığın kaynak bir kitap mı? e/hh\n",
            "Diğer veri tabanlarına bakınız.\n",
            "Türkçe bir kaynak mı arıyorsunuz? e/hh\n",
            "Tümü dil seçeneğini işaretleyiniz.\n",
            "Kaç tane kaynak gösterilsin?26\n",
            "Kaynakların hepsini görmektesiniz\n",
            "Aradığınız kaynağı buldunuz mu? e/h)h\n",
            "Lütfen aradığınız kaynağı konusuna göre detaylandırın\n"
          ]
        }
      ],
      "source": [
        "# kütüphane kullanıcı kodu\n",
        "cevap = input(\"Aradığın kaynak bir kitap mı? e/h\")\n",
        "if cevap == \"e\":\n",
        "  print(\"E-book veri tabanına bakınız.\")\n",
        "else:\n",
        "  print(\"Diğer veri tabanlarına bakınız.\")\n",
        "cevap2 = input(\"Türkçe bir kaynak mı arıyorsunuz? e/h\")\n",
        "if cevap2 == \"e\":\n",
        "  print(\"Türkçe dil seçeneğini işaretleyiniz.\")\n",
        "else:\n",
        "  print(\"Tümü dil seçeneğini işaretleyiniz.\")\n",
        "cevap3 = int(input(\"Kaç tane kaynak gösterilsin?\"))\n",
        "if cevap3 < 30:\n",
        "  print(\"Kaynakların hepsini görmektesiniz\")\n",
        "else:\n",
        "  print(\"Diğer sayfalara da göz atınız, belki de aradığınız ordadır :)\")\n",
        "cevap4 = input(\"Aradığınız kaynağı buldunuz mu? e/h)\") \n",
        "if cevap4 == \"e\":\n",
        "  print(\"Yardımcı olabildiğimize sevindik\")\n",
        "else:\n",
        "  print(\"Lütfen aradığınız kaynağı konusuna göre detaylandırın.\")\n",
        "\n"
      ]
    },
    {
      "cell_type": "code",
      "source": [
        ""
      ],
      "metadata": {
        "id": "m3G2VW8UB8Tr"
      },
      "execution_count": 14,
      "outputs": []
    }
  ]
}