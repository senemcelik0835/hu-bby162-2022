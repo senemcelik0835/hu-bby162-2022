{
  "nbformat": 4,
  "nbformat_minor": 0,
  "metadata": {
    "colab": {
      "name": "proje01.ipynb",
      "provenance": [],
      "authorship_tag": "ABX9TyOwmIQdJBYVD5jyAuis6eVw",
      "include_colab_link": true
    },
    "kernelspec": {
      "name": "python3",
      "display_name": "Python 3"
    },
    "language_info": {
      "name": "python"
    }
  },
  "cells": [
    {
      "cell_type": "markdown",
      "metadata": {
        "id": "view-in-github",
        "colab_type": "text"
      },
      "source": [
        "<a href=\"https://colab.research.google.com/github/senemcelik0835/hu-bby162-2022/blob/main/proje01.ipynb\" target=\"_parent\"><img src=\"https://colab.research.google.com/assets/colab-badge.svg\" alt=\"Open In Colab\"/></a>"
      ]
    },
    {
      "cell_type": "code",
      "execution_count": 57,
      "metadata": {
        "colab": {
          "base_uri": "https://localhost:8080/"
        },
        "id": "sZhh3yJS7V-P",
        "outputId": "8376762c-88c3-4e1a-a145-778535c650a4"
      },
      "outputs": [
        {
          "output_type": "stream",
          "name": "stdout",
          "text": [
            "indeks numaranızı girinizgirmeyeceğim\n",
            "Lütfen sadece sayı giriniz.\n"
          ]
        }
      ],
      "source": [
        "liste = [\"tavşan\", \"marul\", \"leopar\", \"salam\", \"demir\", \"tahta\"]\n",
        "try :\n",
        "  secim = int(input(\"indeks numaranızı giriniz\")) \n",
        "  listeToplam = len(liste)\n",
        "  if secim < listeToplam:\n",
        "    print(liste[secim])\n",
        "  else : \n",
        "    print(\"İndeks dışı giriş..!\")\n",
        "except ValueError :\n",
        "  print(\"Lütfen sadece sayı giriniz.\")\n",
        "\n",
        "\n",
        "  \n",
        "  \n",
        "\n",
        "  \n"
      ]
    },
    {
      "cell_type": "code",
      "source": [
        ""
      ],
      "metadata": {
        "id": "XSJKrDf4ZyHL"
      },
      "execution_count": null,
      "outputs": []
    },
    {
      "cell_type": "code",
      "source": [
        ""
      ],
      "metadata": {
        "id": "m3G2VW8UB8Tr"
      },
      "execution_count": null,
      "outputs": []
    }
  ]
}