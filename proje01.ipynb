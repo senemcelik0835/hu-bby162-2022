{
  "nbformat": 4,
  "nbformat_minor": 0,
  "metadata": {
    "colab": {
      "name": "proje01.ipynb",
      "provenance": [],
      "authorship_tag": "ABX9TyMSjVGNxcUwJEO8e1EEn0b9",
      "include_colab_link": true
    },
    "kernelspec": {
      "name": "python3",
      "display_name": "Python 3"
    },
    "language_info": {
      "name": "python"
    }
  },
  "cells": [
    {
      "cell_type": "markdown",
      "metadata": {
        "id": "view-in-github",
        "colab_type": "text"
      },
      "source": [
        "<a href=\"https://colab.research.google.com/github/senemcelik0835/hu-bby162-2022/blob/main/proje01.ipynb\" target=\"_parent\"><img src=\"https://colab.research.google.com/assets/colab-badge.svg\" alt=\"Open In Colab\"/></a>"
      ]
    },
    {
      "cell_type": "code",
      "execution_count": 28,
      "metadata": {
        "colab": {
          "base_uri": "https://localhost:8080/"
        },
        "id": "sZhh3yJS7V-P",
        "outputId": "8cc41a6d-362d-4d98-a97b-69af57d602cb"
      },
      "outputs": [
        {
          "output_type": "stream",
          "name": "stdout",
          "text": [
            "Aradığın eleman bir hayvan mı? e/hh\n",
            "Aradığın eleman yiyecek mi? e/hh\n",
            "Aradığın eleman materyal mi? e/hh\n",
            "Aradığınız eleman bulunamadı,üzgünüz :(\n"
          ]
        }
      ],
      "source": [
        "liste = [\"tavşan\", \"leopar\", \"marul\", \"salam\", \"demir\", \"tahta\"]\n",
        "secim = input(\"Aradığın eleman bir hayvan mı? e/h\")\n",
        "if secim == \"e\" :\n",
        "  print(liste[0:2])\n",
        "else:\n",
        "  secim2 = input(\"Aradığın eleman yiyecek mi? e/h\")\n",
        "  if secim2 == \"e\":\n",
        "    print(liste[2:4])\n",
        "  else:\n",
        "    secim3 = input(\"Aradığın eleman materyal mi? e/h\")\n",
        "    if secim3 == \"e\":\n",
        "      print(liste[4:])\n",
        "    else:\n",
        "      print(\"Aradığınız eleman bulunamadı,üzgünüz :(\")\n",
        "\n",
        "\n",
        "  \n"
      ]
    },
    {
      "cell_type": "code",
      "source": [
        ""
      ],
      "metadata": {
        "id": "XSJKrDf4ZyHL"
      },
      "execution_count": null,
      "outputs": []
    },
    {
      "cell_type": "code",
      "source": [
        ""
      ],
      "metadata": {
        "id": "m3G2VW8UB8Tr"
      },
      "execution_count": null,
      "outputs": []
    }
  ]
}