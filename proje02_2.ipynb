{
  "nbformat": 4,
  "nbformat_minor": 0,
  "metadata": {
    "colab": {
      "name": "proje02-2.ipynb",
      "provenance": [],
      "authorship_tag": "ABX9TyMEQG40Il3U60yHORne2Gni",
      "include_colab_link": true
    },
    "kernelspec": {
      "name": "python3",
      "display_name": "Python 3"
    },
    "language_info": {
      "name": "python"
    }
  },
  "cells": [
    {
      "cell_type": "markdown",
      "metadata": {
        "id": "view-in-github",
        "colab_type": "text"
      },
      "source": [
        "<a href=\"https://colab.research.google.com/github/senemcelik0835/hu-bby162-2022/blob/main/proje02_2.ipynb\" target=\"_parent\"><img src=\"https://colab.research.google.com/assets/colab-badge.svg\" alt=\"Open In Colab\"/></a>"
      ]
    },
    {
      "cell_type": "code",
      "execution_count": 26,
      "metadata": {
        "colab": {
          "base_uri": "https://localhost:8080/",
          "height": 235
        },
        "id": "xXqE1rP-R0WB",
        "outputId": "d82848b6-fb2b-4a35-800b-8382c1c7916c"
      },
      "outputs": [
        {
          "output_type": "error",
          "ename": "TypeError",
          "evalue": "ignored",
          "traceback": [
            "\u001b[0;31m---------------------------------------------------------------------------\u001b[0m",
            "\u001b[0;31mTypeError\u001b[0m                                 Traceback (most recent call last)",
            "\u001b[0;32m<ipython-input-26-b0b13490dd2b>\u001b[0m in \u001b[0;36m<module>\u001b[0;34m()\u001b[0m\n\u001b[1;32m     16\u001b[0m \u001b[0mliste3\u001b[0m\u001b[0;34m=\u001b[0m \u001b[0;34m[\u001b[0m\u001b[0;34m'müzikçalar'\u001b[0m\u001b[0;34m,\u001b[0m \u001b[0;34m'edebiyatçı'\u001b[0m\u001b[0;34m,\u001b[0m \u001b[0;34m'fabrikatör'\u001b[0m\u001b[0;34m,\u001b[0m\u001b[0;34m'çayırçimen'\u001b[0m\u001b[0;34m]\u001b[0m\u001b[0;34m\u001b[0m\u001b[0;34m\u001b[0m\u001b[0m\n\u001b[1;32m     17\u001b[0m \u001b[0;34m\u001b[0m\u001b[0m\n\u001b[0;32m---> 18\u001b[0;31m \u001b[0msecilenKelime\u001b[0m \u001b[0;34m=\u001b[0m \u001b[0mchoice\u001b[0m\u001b[0;34m[\u001b[0m\u001b[0mkelimeler\u001b[0m\u001b[0;34m]\u001b[0m\u001b[0;34m\u001b[0m\u001b[0;34m\u001b[0m\u001b[0m\n\u001b[0m\u001b[1;32m     19\u001b[0m \u001b[0mprint\u001b[0m\u001b[0;34m(\u001b[0m\u001b[0msecilenKelime\u001b[0m\u001b[0;34m)\u001b[0m\u001b[0;34m\u001b[0m\u001b[0;34m\u001b[0m\u001b[0m\n\u001b[1;32m     20\u001b[0m \u001b[0mdizilenKelime\u001b[0m\u001b[0;34m=\u001b[0m\u001b[0;34m[\u001b[0m\u001b[0;34m]\u001b[0m\u001b[0;34m\u001b[0m\u001b[0;34m\u001b[0m\u001b[0m\n",
            "\u001b[0;31mTypeError\u001b[0m: 'method' object is not subscriptable"
          ]
        }
      ],
      "source": [
        "\n",
        "\n",
        "from random import choice\n",
        "adamCan = []\n",
        "kelimeler =[]\n",
        "\n",
        "# Seviye Basit\n",
        "can1= 10\n",
        "liste1 = ['random', 'bulut', 'vakum','artvin']\n",
        "\n",
        "#Seviye Orta\n",
        "can2 =5\n",
        "liste2 = ['gökyüzü', 'güvenlik', 'hoşgörü','karınca']\n",
        "\n",
        "#Seviye Zor\n",
        "can3 =3\n",
        "liste3= ['müzikçalar', 'edebiyatçı', 'fabrikatör','çayırçimen']\n",
        "\n",
        "secilenKelime = choice[kelimeler]\n",
        "print(secilenKelime)\n",
        "dizilenKelime=[]\n",
        "for diz in secilenKelime :\n",
        "  dizilenKelime.append(\"_\")\n",
        "print(dizilenKelime)\n",
        "while adamCan>0:\n",
        "  adiniz = input(\"lütfen adınızı giriniz :\")\n",
        "  print(\"merhaba \" + adiniz + \" seninle bir oyun oynayacağız\")\n",
        "  print(\"1)basit - 2)orta - 3)ileri - 4)Çıkış\")\n",
        "  seviye = input(\"lütfen oynamak istediğiniz seviyeyi seçiniz: 1/2/3/4\")\n",
        "  seviye = str(seviye)\n",
        "kelimeler =[]\n",
        "if seviye == \"basit\": \n",
        "  print('sahip olduğunuz can sayısı:10')\n",
        "  adamCan= can1\n",
        "  kelimeler = liste1\n",
        "\n",
        "elif seviye == \"orta\": \n",
        "  print('sahip olduğunuz can sayısı:5')\n",
        "  adamCan= can2\n",
        "  kelimeler = liste2\n",
        "\n",
        "elif seviye == \"ileri\": \n",
        "  print('sahip olduğunuz can sayısı:3')\n",
        "  adamCan= can3\n",
        "  kelimeler = liste3\n",
        "\n",
        "else:\n",
        "  print(\"çıkış yapmak üzeresiniz\")\n",
        "\n",
        "  \n",
        "  girilenHarf =input(\"Bir harf giriniz: \")\n",
        "  canKontrol = girilenHarf in secilenKelime\n",
        "  if canKontrol == False:\n",
        "    adamCan -=1\n",
        "  i=0\n",
        "  for kontrol in secilenKelime:\n",
        "    if secilenKelime [i] == girilenHarf:\n",
        "      dizilenKelime [i] = girilenHarf\n",
        "    i+=1\n",
        "    print(dizilenKelime)\n",
        "    print(\"Kalan can: \" +str(adamCan))\n",
        "    print(secilenKelime == dizilenKelime)\n",
        "    for girilenHarf in dizilenKelime:\n",
        "      print(kontrol)\n",
        "    if secilenKelime == kontrol:\n",
        "      print(\"Tebrikler\")\n",
        "      break\n",
        "\n",
        "\n",
        "\n"
      ]
    },
    {
      "cell_type": "markdown",
      "source": [
        ""
      ],
      "metadata": {
        "id": "mYlrTYR_SQ-s"
      }
    },
    {
      "cell_type": "code",
      "source": [
        ""
      ],
      "metadata": {
        "id": "hfrTE1OlSUQE"
      },
      "execution_count": null,
      "outputs": []
    }
  ]
}