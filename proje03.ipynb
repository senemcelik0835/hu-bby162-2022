{
  "nbformat": 4,
  "nbformat_minor": 0,
  "metadata": {
    "colab": {
      "name": "proje03.ipynb",
      "provenance": [],
      "authorship_tag": "ABX9TyPTNg8dgGBT8pMP9xLH9yXX",
      "include_colab_link": true
    },
    "kernelspec": {
      "name": "python3",
      "display_name": "Python 3"
    },
    "language_info": {
      "name": "python"
    }
  },
  "cells": [
    {
      "cell_type": "markdown",
      "metadata": {
        "id": "view-in-github",
        "colab_type": "text"
      },
      "source": [
        "<a href=\"https://colab.research.google.com/github/senemcelik0835/hu-bby162-2022/blob/main/proje03.ipynb\" target=\"_parent\"><img src=\"https://colab.research.google.com/assets/colab-badge.svg\" alt=\"Open In Colab\"/></a>"
      ]
    },
    {
      "cell_type": "code",
      "execution_count": 5,
      "metadata": {
        "colab": {
          "base_uri": "https://localhost:8080/"
        },
        "id": "sZhh3yJS7V-P",
        "outputId": "6801650a-2f68-4764-e3b8-97a583168434"
      },
      "outputs": [
        {
          "output_type": "stream",
          "name": "stdout",
          "text": [
            "Evet-Hayır oyunumuza hoşgeldiniz!\n",
            "1- Türkiye'nin başkenti Ankara'dır.\n",
            "Cevabınızı Evet/Hayır olarak belirtiniz: evet\n",
            "Tebrikler\n",
            "2- Ay dünyanın uydusudur.\n",
            "Cevabınızı Evet/Hayır olarak belirtiniz: evet\n",
            "Tebrikler\n",
            "3-İstanbul'u Yavuz Sultan Selim fethetti.\n",
            "Cevabınızı Evet/Hayır olarak belirtiniz: hayır\n",
            "Tebrikler\n",
            "4- Günümüzde Hicri Takvim kullanıyoruz.\n",
            "Cevabınızı Evet/Hayır olarak belirtiniz: hayır\n",
            "Tebrikler\n",
            "5- Günümüz salgın hastalığının adı'bencillik' tir.\n",
            "Cevabınızı Evet/Hayır olarak belirtiniz: hayır\n",
            "Tebrikler\n",
            "Puanınız: 50\n",
            "Yanlış sayısı: 0\n"
          ]
        }
      ],
      "source": [
        "print(\"Evet-Hayır oyunumuza hoşgeldiniz!\")\n",
        "sorular = [\"1- Türkiye\\'nin başkenti Ankara\\'dır.\", \"2- Ay dünyanın uydusudur.\", \"3-İstanbul\\'u Yavuz Sultan Selim fethetti.\", \"4- Günümüzde Hicri Takvim kullanıyoruz.\", \"5- Günümüz salgın hastalığının adı\\'bencillik\\' tir.\"]\n",
        "cevaplar= [\"Evet\",\"Evet\",\"Hayır\",\"Hayır\",\"Hayır\"]\n",
        "\n",
        "puan=0\n",
        "yanlis =0\n",
        "print(sorular[0])\n",
        "cevap1 = input(\"Cevabınızı Evet/Hayır olarak belirtiniz: \").capitalize()\n",
        "if cevap1 == cevaplar[0]:\n",
        "  print(\"Tebrikler\")\n",
        "  puan +=10\n",
        "else:\n",
        "  print(\"Ülkenin başkentini bilmelisin\")\n",
        "  yanlis +=1\n",
        "\n",
        "print(sorular[1])\n",
        "cevap2 = input(\"Cevabınızı Evet/Hayır olarak belirtiniz: \").capitalize()\n",
        "if cevap2 == cevaplar[1]:\n",
        "  print(\"Tebrikler\")\n",
        "  puan +=10\n",
        "else:\n",
        "  print(\"coğrafya dersini aksatmamalısın\")\n",
        "  yanlis +=1\n",
        "\n",
        "print(sorular[2])\n",
        "cevap3 = input(\"Cevabınızı Evet/Hayır olarak belirtiniz: \").capitalize()\n",
        "if cevap3 == cevaplar[2]:\n",
        "  print(\"Tebrikler\")\n",
        "  puan +=10\n",
        "else:\n",
        "  print(\"Cevap: Fatih Sultan Mehmet\")\n",
        "  yanlis +=1\n",
        "\n",
        "print(sorular[3])\n",
        "cevap4 = input(\"Cevabınızı Evet/Hayır olarak belirtiniz: \").capitalize()\n",
        "if cevap4 == cevaplar[3]:\n",
        "  print(\"Tebrikler\")\n",
        "  puan +=10\n",
        "else:\n",
        "  print(\"Cevap: Günümüzde Miladi takvim kullanılmaktadır.\")\n",
        "  yanlis +=1\n",
        "\n",
        "print(sorular[4])\n",
        "cevap5 = input(\"Cevabınızı Evet/Hayır olarak belirtiniz: \").capitalize()\n",
        "if cevap5 == cevaplar[4]:\n",
        "  print(\"Tebrikler\")\n",
        "  puan +=10\n",
        "else:\n",
        "  print(\"Günümüz salgın hastalığı Covid19\")\n",
        "  yanlis +=1\n",
        "\n",
        "print(\"Puanınız: \" + str(puan))\n",
        "print(\"Yanlış sayısı: \" + str(yanlis))\n",
        "\n",
        "\n",
        "\n",
        "  \n",
        "  \n",
        "\n",
        "  \n"
      ]
    },
    {
      "cell_type": "code",
      "source": [
        ""
      ],
      "metadata": {
        "id": "XSJKrDf4ZyHL"
      },
      "execution_count": null,
      "outputs": []
    },
    {
      "cell_type": "code",
      "source": [
        ""
      ],
      "metadata": {
        "id": "m3G2VW8UB8Tr"
      },
      "execution_count": null,
      "outputs": []
    }
  ]
}