{
  "nbformat": 4,
  "nbformat_minor": 0,
  "metadata": {
    "colab": {
      "name": "proje03.ipynb adlı dosyanın kopyası",
      "provenance": [],
      "authorship_tag": "ABX9TyNFLp2vPo1DU7vXUwGMCosw",
      "include_colab_link": true
    },
    "kernelspec": {
      "name": "python3",
      "display_name": "Python 3"
    },
    "language_info": {
      "name": "python"
    }
  },
  "cells": [
    {
      "cell_type": "markdown",
      "metadata": {
        "id": "view-in-github",
        "colab_type": "text"
      },
      "source": [
        "<a href=\"https://colab.research.google.com/github/senemcelik0835/hu-bby162-2022/blob/main/proje03_ipynb_adl%C4%B1_dosyan%C4%B1n_kopyas%C4%B1.ipynb\" target=\"_parent\"><img src=\"https://colab.research.google.com/assets/colab-badge.svg\" alt=\"Open In Colab\"/></a>"
      ]
    },
    {
      "cell_type": "code",
      "execution_count": null,
      "metadata": {
        "colab": {
          "base_uri": "https://localhost:8080/"
        },
        "id": "sZhh3yJS7V-P",
        "outputId": "274d525d-f99b-477d-ecc0-ae79f7597aae"
      },
      "outputs": [
        {
          "output_type": "stream",
          "name": "stdout",
          "text": [
            "Evet-Hayır oyunumuza hoşgeldiniz!\n",
            "1- Türkiye'nin başkenti Ankara'dır.\n"
          ]
        }
      ],
      "source": [
        "print(\"Evet-Hayır oyunumuza hoşgeldiniz!\")\n",
        "sorular = [\"1- Türkiye\\'nin başkenti Ankara\\'dır.\", \"2- Ay dünyanın uydusudur.\", \"3-İstanbul\\'u Yavuz Sultan Selim fethetti.\", \"4- Günümüzde Hicri Takvim kullanıyoruz.\", \"5- Günümüzün salgın hastalığının adı\\'bitlenme\\' dir.\"]\n",
        "cevaplar= [\"Evet\",\"Evet\",\"Hayır\",\"Hayır\"]\n",
        "\n",
        "puan=0\n",
        "yanlis =0\n",
        "print(sorular[0])\n",
        "cevap1 = input(\"Cevabınızı Evet/Hayır olarak belirtiniz: \").capitalize()\n",
        "if cevap1 == cevaplar[0]:\n",
        "  print(\"Tebrikler\")\n",
        "  puan +=1\n",
        "else:\n",
        "  print(\"Ülkenin başkentini bilmelisin\")\n",
        "  yanlis +=1\n",
        "\n",
        "print(sorular[1])\n",
        "cevap2 = input(\"Cevabınızı Evet/Hayır olarak belirtiniz: \").capitalize()\n",
        "if cevap2 == cevaplar[1]:\n",
        "  print(\"Tebrikler\")\n",
        "  puan +=1\n",
        "else:\n",
        "  print(\"coğrafya dersini aksatmamalısın\")\n",
        "  yanlis +=1\n",
        "\n",
        "print(sorular[2])\n",
        "cevap3 = input(\"Cevabınızı Evet/Hayır olarak belirtiniz: \").capitalize()\n",
        "if cevap3 == cevaplar[2]:\n",
        "  print(\"Tebrikler\")\n",
        "  puan +=1\n",
        "else:\n",
        "  print(\"Cevap: Fatih Sultan Mehmet\")\n",
        "  yanlis +=1\n",
        "\n",
        "print(sorular[3])\n",
        "cevap4 = input(\"Cevabınızı Evet/Hayır olarak belirtiniz: \").capitalize()\n",
        "if cevap4 == cevaplar[3]:\n",
        "  print(\"Tebrikler\")\n",
        "  puan +=1\n",
        "else:\n",
        "  print(\"Cevap: Günümüzde Miladi takvim kullanılmaktadır.\")\n",
        "  yanlis +=1\n",
        "\n",
        "print(sorular[4])\n",
        "cevap5 = input(\"Cevabınızı Evet/Hayır olarak belirtiniz: \").capitalize()\n",
        "if cevap5 == cevaplar[4]:\n",
        "  print(\"Tebrikler\")\n",
        "  puan +=1\n",
        "else:\n",
        "  print(\"Günümüz salgın hastalığı Covid19\")\n",
        "  yanlis +=1\n",
        "\n",
        "print(\"Doğru sayısı: \" + str(puan))\n",
        "print(\"Yanlis sayısı: \" + str(yanlis))\n",
        "\n",
        "\n",
        "\n",
        "  \n",
        "  \n",
        "\n",
        "  \n"
      ]
    },
    {
      "cell_type": "code",
      "source": [
        ""
      ],
      "metadata": {
        "id": "XSJKrDf4ZyHL"
      },
      "execution_count": null,
      "outputs": []
    },
    {
      "cell_type": "code",
      "source": [
        ""
      ],
      "metadata": {
        "id": "m3G2VW8UB8Tr"
      },
      "execution_count": null,
      "outputs": []
    }
  ]
}