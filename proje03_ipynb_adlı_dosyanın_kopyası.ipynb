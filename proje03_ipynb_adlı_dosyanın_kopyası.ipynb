{
  "nbformat": 4,
  "nbformat_minor": 0,
  "metadata": {
    "colab": {
      "name": "proje03.ipynb adlı dosyanın kopyası",
      "provenance": [],
      "authorship_tag": "ABX9TyOYiNGWapL913a1HRY/q2mg",
      "include_colab_link": true
    },
    "kernelspec": {
      "name": "python3",
      "display_name": "Python 3"
    },
    "language_info": {
      "name": "python"
    }
  },
  "cells": [
    {
      "cell_type": "markdown",
      "metadata": {
        "id": "view-in-github",
        "colab_type": "text"
      },
      "source": [
        "<a href=\"https://colab.research.google.com/github/senemcelik0835/hu-bby162-2022/blob/main/proje03_ipynb_adl%C4%B1_dosyan%C4%B1n_kopyas%C4%B1.ipynb\" target=\"_parent\"><img src=\"https://colab.research.google.com/assets/colab-badge.svg\" alt=\"Open In Colab\"/></a>"
      ]
    },
    {
      "cell_type": "code",
      "execution_count": 46,
      "metadata": {
        "colab": {
          "base_uri": "https://localhost:8080/",
          "height": 495
        },
        "id": "sZhh3yJS7V-P",
        "outputId": "7229fb1b-2374-4e39-a3a9-fb0f0a0c6d0b"
      },
      "outputs": [
        {
          "name": "stdout",
          "output_type": "stream",
          "text": [
            "Evet-Hayır oyunumuza hoşgeldiniz!\n",
            "1- Türkiye'nin başkenti Ankara'dır.\n",
            "Cevabınızı Evet/Hayır olarak belirtiniz: evet\n",
            "Tebrikler\n",
            "2- Ay dünyanın uydusudur.\n",
            "Cevabınızı Evet/Hayır olarak belirtiniz: evet\n",
            "Tebrikler\n",
            "3-İstanbul'u Yavuz Sultan Selim fethetti.\n",
            "Cevabınızı Evet/Hayır olarak belirtiniz: evet\n",
            "Cevabınızı Evet/Hayır olarak belirtiniz: evet\n",
            "Cevap: Fatih Sultan Mehmet\n",
            "4- Günümüzde Hicri Takvim kullanıyoruz.\n",
            "Cevap: Günümüzde Miladi takvim kullanılmaktadır.\n",
            "5- Günümüzün salgın hastalığının adı'bitlenme' dir.\n",
            "Cevabınızı Evet/Hayır olarak belirtiniz: evet\n"
          ]
        },
        {
          "output_type": "error",
          "ename": "IndexError",
          "evalue": "ignored",
          "traceback": [
            "\u001b[0;31m---------------------------------------------------------------------------\u001b[0m",
            "\u001b[0;31mIndexError\u001b[0m                                Traceback (most recent call last)",
            "\u001b[0;32m<ipython-input-46-da6661905dcc>\u001b[0m in \u001b[0;36m<module>\u001b[0;34m()\u001b[0m\n\u001b[1;32m     43\u001b[0m \u001b[0mprint\u001b[0m\u001b[0;34m(\u001b[0m\u001b[0msorular\u001b[0m\u001b[0;34m[\u001b[0m\u001b[0;36m4\u001b[0m\u001b[0;34m]\u001b[0m\u001b[0;34m)\u001b[0m\u001b[0;34m\u001b[0m\u001b[0;34m\u001b[0m\u001b[0m\n\u001b[1;32m     44\u001b[0m \u001b[0mcevap5\u001b[0m \u001b[0;34m=\u001b[0m \u001b[0minput\u001b[0m\u001b[0;34m(\u001b[0m\u001b[0;34m\"Cevabınızı Evet/Hayır olarak belirtiniz: \"\u001b[0m\u001b[0;34m)\u001b[0m\u001b[0;34m.\u001b[0m\u001b[0mcapitalize\u001b[0m\u001b[0;34m(\u001b[0m\u001b[0;34m)\u001b[0m\u001b[0;34m\u001b[0m\u001b[0;34m\u001b[0m\u001b[0m\n\u001b[0;32m---> 45\u001b[0;31m \u001b[0;32mif\u001b[0m \u001b[0mcevap5\u001b[0m \u001b[0;34m==\u001b[0m \u001b[0mcevaplar\u001b[0m\u001b[0;34m[\u001b[0m\u001b[0;36m4\u001b[0m\u001b[0;34m]\u001b[0m\u001b[0;34m:\u001b[0m\u001b[0;34m\u001b[0m\u001b[0;34m\u001b[0m\u001b[0m\n\u001b[0m\u001b[1;32m     46\u001b[0m   \u001b[0mprint\u001b[0m\u001b[0;34m(\u001b[0m\u001b[0;34m\"Tebrikler\"\u001b[0m\u001b[0;34m)\u001b[0m\u001b[0;34m\u001b[0m\u001b[0;34m\u001b[0m\u001b[0m\n\u001b[1;32m     47\u001b[0m   \u001b[0mpuan\u001b[0m \u001b[0;34m+=\u001b[0m\u001b[0;36m1\u001b[0m\u001b[0;34m\u001b[0m\u001b[0;34m\u001b[0m\u001b[0m\n",
            "\u001b[0;31mIndexError\u001b[0m: list index out of range"
          ]
        }
      ],
      "source": [
        "print(\"Evet-Hayır oyunumuza hoşgeldiniz!\")\n",
        "sorular = [\"1- Türkiye\\'nin başkenti Ankara\\'dır.\", \"2- Ay dünyanın uydusudur.\", \"3-İstanbul\\'u Yavuz Sultan Selim fethetti.\", \"4- Günümüzde Hicri Takvim kullanıyoruz.\", \"5- Günümüzün salgın hastalığının adı\\'bitlenme\\' dir.\"]\n",
        "cevaplar= [\"Evet\",\"Evet\",\"Hayır\",\"Hayır\"]\n",
        "\n",
        "puan=0\n",
        "yanlis =0\n",
        "print(sorular[0])\n",
        "cevap1 = input(\"Cevabınızı Evet/Hayır olarak belirtiniz: \").capitalize()\n",
        "if cevap1 == cevaplar[0]:\n",
        "  print(\"Tebrikler\")\n",
        "  puan +=1\n",
        "else:\n",
        "  print(\"Ülkenin başkentini bilmelisin\")\n",
        "  yanlis +=1\n",
        "\n",
        "print(sorular[1])\n",
        "cevap2 = input(\"Cevabınızı Evet/Hayır olarak belirtiniz: \").capitalize()\n",
        "if cevap2 == cevaplar[1]:\n",
        "  print(\"Tebrikler\")\n",
        "  puan +=1\n",
        "else:\n",
        "  print(\"coğrafya dersini aksatmamalısın\")\n",
        "  yanlis +=1\n",
        "\n",
        "print(sorular[2])\n",
        "cevap3 = input(\"Cevabınızı Evet/Hayır olarak belirtiniz: \").capitalize()\n",
        "if cevap3 == cevaplar[2]:\n",
        "  print(\"Tebrikler\")\n",
        "  puan +=1\n",
        "else:\n",
        "  print(\"Cevap: Fatih Sultan Mehmet\")\n",
        "  yanlis +=1\n",
        "\n",
        "print(sorular[3])\n",
        "cevap4 = input(\"Cevabınızı Evet/Hayır olarak belirtiniz: \").capitalize()\n",
        "if cevap4 == cevaplar[3]:\n",
        "  print(\"Tebrikler\")\n",
        "  puan +=1\n",
        "else:\n",
        "  print(\"Cevap: Günümüzde Miladi takvim kullanılmaktadır.\")\n",
        "  yanlis +=1\n",
        "\n",
        "print(sorular[4])\n",
        "cevap5 = input(\"Cevabınızı Evet/Hayır olarak belirtiniz: \").capitalize()\n",
        "if cevap5 == cevaplar[4]:\n",
        "  print(\"Tebrikler\")\n",
        "  puan +=1\n",
        "else:\n",
        "  print(\"Günümüz salgın hastalığı Covid19\")\n",
        "  yanlis +=1\n",
        "\n",
        "  break\n",
        "\n",
        "\n",
        "print(puan)\n",
        "print(yanlis)\n",
        "\n",
        "\n",
        "\n",
        "  \n",
        "  \n",
        "\n",
        "  \n"
      ]
    },
    {
      "cell_type": "code",
      "source": [
        ""
      ],
      "metadata": {
        "id": "XSJKrDf4ZyHL"
      },
      "execution_count": null,
      "outputs": []
    },
    {
      "cell_type": "code",
      "source": [
        ""
      ],
      "metadata": {
        "id": "m3G2VW8UB8Tr"
      },
      "execution_count": null,
      "outputs": []
    }
  ]
}