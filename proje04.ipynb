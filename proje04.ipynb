{
  "nbformat": 4,
  "nbformat_minor": 0,
  "metadata": {
    "colab": {
      "name": "proje04.ipynb",
      "provenance": [],
      "collapsed_sections": [],
      "mount_file_id": "1AurgKyqM1QHlZPwzhNJaiDO4yvBiRMkn",
      "authorship_tag": "ABX9TyP7Hz/i/mwkrCs2JRp1NK/D",
      "include_colab_link": true
    },
    "kernelspec": {
      "name": "python3",
      "display_name": "Python 3"
    },
    "language_info": {
      "name": "python"
    }
  },
  "cells": [
    {
      "cell_type": "markdown",
      "metadata": {
        "id": "view-in-github",
        "colab_type": "text"
      },
      "source": [
        "<a href=\"https://colab.research.google.com/github/senemcelik0835/hu-bby162-2022/blob/main/proje04.ipynb\" target=\"_parent\"><img src=\"https://colab.research.google.com/assets/colab-badge.svg\" alt=\"Open In Colab\"/></a>"
      ]
    },
    {
      "cell_type": "code",
      "execution_count": null,
      "metadata": {
        "colab": {
          "base_uri": "https://localhost:8080/"
        },
        "id": "8i2KD6MDHGtA",
        "outputId": "8fe0b524-518d-4f83-a713-1b6d44af6010"
      },
      "outputs": [
        {
          "output_type": "stream",
          "name": "stdout",
          "text": [
            "Drive already mounted at /content/drive; to attempt to forcibly remount, call drive.mount(\"/content/drive\", force_remount=True).\n",
            "Kütüphane Koleksiyonu\n",
            "işlemler: \n",
            " 1)Kayıtları listele: \n",
            " 2)Yeni kayıt ekle: \n",
            " 3)Kayıt ara: \n",
            " 4)Çıkış\n",
            "Seçiminizi rakamla belirtiniz: 4\n",
            "Çıkış yapıldı\n"
          ]
        }
      ],
      "source": [
        "from google.colab import drive\n",
        "drive.mount('/content/drive')\n",
        "dosyaYolu = \"/content/drive/MyDrive/Colab Notebooks/veritabani.txt\"\n",
        "\n",
        "def listele():\n",
        "  dosya=open(dosyaYolu, \"r\")\n",
        "  for kitap in dosya.readlines():\n",
        "      print(kitap.capitalize())\n",
        "  dosya.close()\n",
        "\n",
        "def ekle():\n",
        "  ad= input(\" Kitap Adını Giriniz : \\n\")\n",
        "  yazarAdi= input(\" Yazar Adını Giriniz : \\n\")\n",
        "  yayinYili= input(\" Basım Yılını Giriniz : \\n\")\n",
        "  yayinEvi= input(\" Yayınevini Giriniz : \\n\")\n",
        "  dosya =open(dosyaYolu, \"a\")\n",
        "  dosya.write(ad+\"\\t|\\t\"+yazarAdi +\"\\t|\\t\" + str(yayinYili) + \"\\t|\\t\"+ yayinEvi+\"\\n\")\n",
        "  dosya.close()\n",
        "\n",
        "def ara():\n",
        "  arama = input(\"Aradığınız kitabın bilgilerini giriniz: \")\n",
        "  dosya = open(dosyaYolu, \"r\", encoding=\"utf-8\")\n",
        "  for kitap in dosya:\n",
        "    print(\"Aradığınız kitap, koleksiyonda mevcuttur. \")\n",
        "    print(kitap)\n",
        "  else:\n",
        "      print(\"Aradığınız kitap, koleksiyonda bulunmamaktadır.\")\n",
        "  \n",
        "def anaMenu():\n",
        "  while True:\n",
        "    print(\"Kütüphane Koleksiyonu\")\n",
        "    print(\"işlemler: \\n 1)Kayıtları listele: \\n 2)Yeni kayıt ekle: \\n 3)Kayıt ara: \\n 4)Çıkış\")\n",
        "    secim= input(\"Seçiminizi rakamla belirtiniz: \")\n",
        "    if secim == \"1\":\n",
        "      listele()\n",
        "    elif secim == \"2\":\n",
        "      ekle()\n",
        "    elif secim == \"3\":\n",
        "      ara()\n",
        "    elif secim == \"4\":\n",
        "      print(\"Çıkış yapıldı\")\n",
        "      break\n",
        "    else:\n",
        "      print(\"Lütfen geçerli bir seçim yapınız\")\n",
        "anaMenu()"
      ]
    },
    {
      "cell_type": "code",
      "source": [
        ""
      ],
      "metadata": {
        "id": "Xtt2hq-Th1OW"
      },
      "execution_count": null,
      "outputs": []
    }
  ]
}