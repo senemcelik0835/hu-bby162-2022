{
  "nbformat": 4,
  "nbformat_minor": 0,
  "metadata": {
    "colab": {
      "provenance": [],
      "authorship_tag": "ABX9TyOkQdHR2bYetqvUd3ICxr2J",
      "include_colab_link": true
    },
    "kernelspec": {
      "name": "python3",
      "display_name": "Python 3"
    },
    "language_info": {
      "name": "python"
    }
  },
  "cells": [
    {
      "cell_type": "markdown",
      "metadata": {
        "id": "view-in-github",
        "colab_type": "text"
      },
      "source": [
        "<a href=\"https://colab.research.google.com/github/senemcelik0835/hu-bby162-2022/blob/main/Untitled8.ipynb\" target=\"_parent\"><img src=\"https://colab.research.google.com/assets/colab-badge.svg\" alt=\"Open In Colab\"/></a>"
      ]
    },
    {
      "cell_type": "code",
      "execution_count": null,
      "metadata": {
        "id": "8Km9lo3tbQeR"
      },
      "outputs": [],
      "source": [
        "import os\n",
        "class DataURL:\n",
        "\n",
        "  dataFile = \"dataURL.txt\"\n",
        "\n",
        "  def __init__(self):\n",
        "    fileTest = open(self.dataFile, 'a')\n",
        "    fileTest.close()\n",
        "\n",
        "  def dataWrite(self):\n",
        "    dataOpen = open(self.dataFile, 'a')\n",
        "    siteURL = input(\"Site adresini ön eki ile birlikte giriniz: \")\n",
        "    kontrolhttp = siteURL[:7]\n",
        "    kontrolhttps = siteURL[:8]\n",
        "    http = \"http://\"\n",
        "    https = \"https://\"\n",
        "    if kontrolhttp == http or kontrolhttps == https:\n",
        "        dataOpen.write(siteURL + \"\\n\")\n",
        "        dataOpen.close()\n",
        "        print(\"Url kaydedildi.\")\n",
        "    else:\n",
        "        print(\"Hata!\")\n",
        "        print(\"Lütfen url'nin ön ekini (/'https://' veya 'http://') giriniz.\")\n",
        "\n",
        "  def dataRead(self):\n",
        "      dataOpen = open(self.dataFile, 'r')\n",
        "      if os.stat(self.dataFile).st_size==0:\n",
        "          print(\"Henüz kaydedilmiş adres yok!\")\n",
        "      else:\n",
        "            for dataShow in dataOpen:\n",
        "                print(dataShow)\n",
        "      dataOpen.close()"
      ]
    }
  ]
}